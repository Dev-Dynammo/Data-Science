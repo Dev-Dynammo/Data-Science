{
  "cells": [
    {
      "attachments": {},
      "cell_type": "markdown",
      "metadata": {
        "id": "0KL--K2bo6DA"
      },
      "source": [
        "#***Main Project-01 (Data Science)***\n"
      ]
    },
    {
      "cell_type": "markdown",
      "metadata": {
        "id": "I18Jq4byuxJz"
      },
      "source": [
        "# **⭐ Classification Model to Identify Multiple Disease**"
      ]
    },
    {
      "cell_type": "code",
      "execution_count": null,
      "metadata": {
        "id": "KMnSezUyqBGC"
      },
      "outputs": [],
      "source": [
        "# import library\n",
        "import pandas as pd"
      ]
    },
    {
      "cell_type": "code",
      "execution_count": null,
      "metadata": {
        "id": "sSNrMT5cu0QO"
      },
      "outputs": [],
      "source": [
        "# import data\n",
        "disease = pd.read_csv('https://github.com/ybifoundation/Dataset/raw/main/MultipleDiseasePrediction.csv')"
      ]
    },
    {
      "cell_type": "code",
      "execution_count": null,
      "metadata": {
        "id": "47yQb5c2vnSy"
      },
      "outputs": [],
      "source": [
        "# view data\n",
        "disease"
      ]
    },
    {
      "cell_type": "code",
      "execution_count": null,
      "metadata": {
        "id": "CEQ00aPdvwT4"
      },
      "outputs": [],
      "source": [
        "# info of data\n",
        "disease.info(verbose=True,null_counts=True)"
      ]
    },
    {
      "cell_type": "code",
      "execution_count": null,
      "metadata": {
        "id": "dwf657_Rv1T2"
      },
      "outputs": [],
      "source": [
        "# summary statistics\n",
        "disease.describe()"
      ]
    },
    {
      "cell_type": "code",
      "execution_count": null,
      "metadata": {
        "id": "yvLoDmdcv5Qm"
      },
      "outputs": [],
      "source": [
        "# check for missing value\n",
        "disease.isnull"
      ]
    },
    {
      "cell_type": "code",
      "execution_count": null,
      "metadata": {
        "id": "0dNMNNIvwBtd"
      },
      "outputs": [],
      "source": [
        "# check for categories\n",
        "disease.nunique()"
      ]
    },
    {
      "cell_type": "code",
      "execution_count": null,
      "metadata": {
        "id": "nF78p-E0CLKY"
      },
      "outputs": [],
      "source": [
        "# correlation\n",
        "disease.corr()"
      ]
    },
    {
      "cell_type": "code",
      "execution_count": null,
      "metadata": {
        "id": "YVH5G64MyPWu"
      },
      "outputs": [],
      "source": [
        "# visualize pairplot\n",
        "import seaborn as sns"
      ]
    },
    {
      "cell_type": "code",
      "execution_count": null,
      "metadata": {
        "id": "ymxMIpJtzyYK"
      },
      "outputs": [],
      "source": [
        "# column names\n",
        "disease.columns"
      ]
    },
    {
      "cell_type": "code",
      "execution_count": null,
      "metadata": {
        "id": "_enIO3nskJML"
      },
      "outputs": [],
      "source": [
        "disease.shape"
      ]
    },
    {
      "cell_type": "code",
      "execution_count": null,
      "metadata": {
        "id": "kDznvpMcz3Xj"
      },
      "outputs": [],
      "source": [
        "# define y\n",
        "y=disease['prognosis']"
      ]
    },
    {
      "cell_type": "code",
      "execution_count": null,
      "metadata": {
        "id": "VYOT05Uzz63S"
      },
      "outputs": [],
      "source": [
        "# define X\n",
        "X=disease[['itching', 'skin_rash', 'nodal_skin_eruptions', 'continuous_sneezing','shivering', 'chills', 'joint_pain', 'stomach_pain', 'acidity','ulcers_on_tongue','blackheads', 'scurring', 'skin_peeling', 'silver_like_dusting','small_dents_in_nails', 'inflammatory_nails', 'blister','red_sore_around_nose','yellow_crust_ooze']]"
      ]
    },
    {
      "cell_type": "code",
      "execution_count": null,
      "metadata": {
        "id": "BMu-d3slzX7j"
      },
      "outputs": [],
      "source": [
        "# split data\n",
        "from sklearn.model_selection import train_test_split\n",
        "X_train, X_test, y_train, y_test = train_test_split(X,y, train_size=0.8, random_state=2529)"
      ]
    },
    {
      "cell_type": "code",
      "execution_count": null,
      "metadata": {
        "id": "6TYpjNnAzgHV"
      },
      "outputs": [],
      "source": [
        "# verify shape\n",
        "X_train.shape, X_test.shape, y_train.shape, y_test.shape"
      ]
    },
    {
      "cell_type": "markdown",
      "metadata": {
        "id": "JYJU9jF8heS_"
      },
      "source": [
        "##**Method-01**"
      ]
    },
    {
      "cell_type": "code",
      "execution_count": null,
      "metadata": {
        "id": "JsLlB3pi0Frp"
      },
      "outputs": [],
      "source": [
        "# select model\n",
        "from sklearn.neighbors import KNeighborsClassifier\n",
        "model = KNeighborsClassifier()\n"
      ]
    },
    {
      "cell_type": "code",
      "execution_count": null,
      "metadata": {
        "id": "zNcMLK2N0S4N"
      },
      "outputs": [],
      "source": [
        "# train model\n",
        "model.fit(X_train,y_train)"
      ]
    },
    {
      "cell_type": "code",
      "execution_count": null,
      "metadata": {
        "id": "Ucz0oHDj0X36"
      },
      "outputs": [],
      "source": [
        "# predict with model\n",
        "y_pred=model.predict(X_test)"
      ]
    },
    {
      "cell_type": "code",
      "execution_count": null,
      "metadata": {
        "id": "9ueK-hy00e3-"
      },
      "outputs": [],
      "source": [
        "# model evaluation\n",
        "from sklearn.metrics import accuracy_score, confusion_matrix, classification_report"
      ]
    },
    {
      "cell_type": "code",
      "execution_count": null,
      "metadata": {
        "id": "JJV2eHf50o4W"
      },
      "outputs": [],
      "source": [
        "# model accuracy\n",
        "accuracy_score(y_test,y_pred)"
      ]
    },
    {
      "cell_type": "code",
      "execution_count": null,
      "metadata": {
        "id": "h100Msuz00TT"
      },
      "outputs": [],
      "source": [
        "# model confusion matrix\n",
        "confusion_matrix(y_test,y_pred)"
      ]
    },
    {
      "cell_type": "code",
      "execution_count": null,
      "metadata": {
        "id": "BINeM-mo1Arv"
      },
      "outputs": [],
      "source": [
        "# model classification report\n",
        "print(classification_report(y_test,y_pred))"
      ]
    },
    {
      "cell_type": "code",
      "execution_count": null,
      "metadata": {
        "id": "_kC5WrRO1Gfj"
      },
      "outputs": [],
      "source": [
        "# future prediction\n",
        "X_new = X.sample()"
      ]
    },
    {
      "cell_type": "code",
      "execution_count": null,
      "metadata": {
        "id": "CxLn9E-n1Zht"
      },
      "outputs": [],
      "source": [
        "# define X_new\n",
        "X_new"
      ]
    },
    {
      "cell_type": "code",
      "execution_count": null,
      "metadata": {
        "id": "ph3XVzdw2MS2"
      },
      "outputs": [],
      "source": [
        "# predict for X_new\n",
        "model.predict(X_new)"
      ]
    },
    {
      "cell_type": "markdown",
      "metadata": {
        "id": "dtS0cr7spcAw"
      },
      "source": [
        "##**Method-02**"
      ]
    },
    {
      "cell_type": "code",
      "execution_count": null,
      "metadata": {
        "id": "P1FB7fZjplZ5"
      },
      "outputs": [],
      "source": [
        "# select model\n",
        "from sklearn.ensemble import RandomForestClassifier\n",
        "model = RandomForestClassifier()"
      ]
    },
    {
      "cell_type": "code",
      "execution_count": null,
      "metadata": {
        "id": "EfWb-6ooplSB"
      },
      "outputs": [],
      "source": [
        "# train model\n",
        "model.fit(X_train,y_train)"
      ]
    },
    {
      "cell_type": "code",
      "execution_count": null,
      "metadata": {
        "id": "Epa6XcakplJd"
      },
      "outputs": [],
      "source": [
        "# predict with model\n",
        "y_pred=model.predict(X_test)"
      ]
    },
    {
      "cell_type": "code",
      "execution_count": null,
      "metadata": {
        "id": "hBZ70ECYplBE"
      },
      "outputs": [],
      "source": [
        "from sklearn.metrics import accuracy_score, confusion_matrix, classification_report"
      ]
    },
    {
      "cell_type": "code",
      "execution_count": null,
      "metadata": {
        "id": "UtRUO7u5pk4y"
      },
      "outputs": [],
      "source": [
        "# model accuracy\n",
        "accuracy_score(y_test,y_pred)"
      ]
    },
    {
      "cell_type": "code",
      "execution_count": null,
      "metadata": {
        "id": "Re9F5JCBpkwu"
      },
      "outputs": [],
      "source": [
        "# model confusion matrix\n",
        "confusion_matrix(y_test,y_pred)"
      ]
    },
    {
      "cell_type": "code",
      "execution_count": null,
      "metadata": {
        "id": "Ojv4v6egpknm"
      },
      "outputs": [],
      "source": [
        "# model classification report\n",
        "print(classification_report(y_test,y_pred))"
      ]
    },
    {
      "cell_type": "code",
      "execution_count": null,
      "metadata": {
        "id": "Pvbbj5oZpkcM"
      },
      "outputs": [],
      "source": [
        "# future prediction\n",
        "X_new = X.sample()"
      ]
    },
    {
      "cell_type": "code",
      "execution_count": null,
      "metadata": {
        "id": "kM0z9x8ypkRN"
      },
      "outputs": [],
      "source": [
        "# define X_new\n",
        "X_new"
      ]
    },
    {
      "cell_type": "code",
      "execution_count": null,
      "metadata": {
        "id": "8FRuYTkBpkHV"
      },
      "outputs": [],
      "source": [
        "# predict for X_new\n",
        "model.predict(X_new)"
      ]
    }
  ],
  "metadata": {
    "colab": {
      "collapsed_sections": [
        "I18Jq4byuxJz",
        "JYJU9jF8heS_",
        "dtS0cr7spcAw"
      ],
      "provenance": []
    },
    "kernelspec": {
      "display_name": "Python 3",
      "name": "python3"
    },
    "language_info": {
      "name": "python"
    }
  },
  "nbformat": 4,
  "nbformat_minor": 0
}
