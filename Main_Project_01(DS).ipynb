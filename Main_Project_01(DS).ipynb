{
  "nbformat": 4,
  "nbformat_minor": 0,
  "metadata": {
    "colab": {
      "provenance": [],
      "collapsed_sections": [
        "I18Jq4byuxJz",
        "JYJU9jF8heS_",
        "dtS0cr7spcAw"
      ]
    },
    "kernelspec": {
      "name": "python3",
      "display_name": "Python 3"
    },
    "language_info": {
      "name": "python"
    }
  },
  "cells": [
    {
      "cell_type": "markdown",
      "source": [
        "#***Main Project-01 (Data Science)***\n",
      ],
      "metadata": {
        "id": "0KL--K2bo6DA"
      }
    },
    {
      "cell_type": "markdown",
      "source": [
        "# **⭐ Classification Model to Identify Multiple Disease**"
      ],
      "metadata": {
        "id": "I18Jq4byuxJz"
      }
    },
    {
      "cell_type": "code",
      "execution_count": null,
      "metadata": {
        "id": "KMnSezUyqBGC"
      },
      "outputs": [],
      "source": [
        "# import library\n",
        "import pandas as pd"
      ]
    },
    {
      "cell_type": "code",
      "source": [
        "# import data\n",
        "disease = pd.read_csv('https://github.com/ybifoundation/Dataset/raw/main/MultipleDiseasePrediction.csv')"
      ],
      "metadata": {
        "id": "sSNrMT5cu0QO"
      },
      "execution_count": null,
      "outputs": []
    },
    {
      "cell_type": "code",
      "source": [
        "# view data\n",
        "disease"
      ],
      "metadata": {
        "id": "47yQb5c2vnSy"
      },
      "execution_count": null,
      "outputs": []
    },
    {
      "cell_type": "code",
      "source": [
        "# info of data\n",
        "disease.info(verbose=True,null_counts=True)"
      ],
      "metadata": {
        "id": "CEQ00aPdvwT4"
      },
      "execution_count": null,
      "outputs": []
    },
    {
      "cell_type": "code",
      "source": [
        "# summary statistics\n",
        "disease.describe()"
      ],
      "metadata": {
        "id": "dwf657_Rv1T2"
      },
      "execution_count": null,
      "outputs": []
    },
    {
      "cell_type": "code",
      "source": [
        "# check for missing value\n",
        "disease.isnull"
      ],
      "metadata": {
        "id": "yvLoDmdcv5Qm"
      },
      "execution_count": null,
      "outputs": []
    },
    {
      "cell_type": "code",
      "source": [
        "# check for categories\n",
        "disease.nunique()"
      ],
      "metadata": {
        "id": "0dNMNNIvwBtd"
      },
      "execution_count": null,
      "outputs": []
    },
    {
      "cell_type": "code",
      "source": [
        "# correlation\n",
        "disease.corr()"
      ],
      "metadata": {
        "id": "nF78p-E0CLKY"
      },
      "execution_count": null,
      "outputs": []
    },
    {
      "cell_type": "code",
      "source": [
        "# visualize pairplot\n",
        "import seaborn as sns"
      ],
      "metadata": {
        "id": "YVH5G64MyPWu"
      },
      "execution_count": null,
      "outputs": []
    },
    {
      "cell_type": "code",
      "source": [
        "# column names\n",
        "disease.columns"
      ],
      "metadata": {
        "id": "ymxMIpJtzyYK"
      },
      "execution_count": null,
      "outputs": []
    },
    {
      "cell_type": "code",
      "source": [
        "disease.shape"
      ],
      "metadata": {
        "id": "_enIO3nskJML"
      },
      "execution_count": null,
      "outputs": []
    },
    {
      "cell_type": "code",
      "source": [
        "# define y\n",
        "y=disease['prognosis']"
      ],
      "metadata": {
        "id": "kDznvpMcz3Xj"
      },
      "execution_count": null,
      "outputs": []
    },
    {
      "cell_type": "code",
      "source": [
        "# define X\n",
        "X=disease[['itching', 'skin_rash', 'nodal_skin_eruptions', 'continuous_sneezing','shivering', 'chills', 'joint_pain', 'stomach_pain', 'acidity','ulcers_on_tongue','blackheads', 'scurring', 'skin_peeling', 'silver_like_dusting','small_dents_in_nails', 'inflammatory_nails', 'blister','red_sore_around_nose','yellow_crust_ooze']]"
      ],
      "metadata": {
        "id": "VYOT05Uzz63S"
      },
      "execution_count": null,
      "outputs": []
    },
    {
      "cell_type": "code",
      "source": [
        "# split data\n",
        "from sklearn.model_selection import train_test_split\n",
        "X_train, X_test, y_train, y_test = train_test_split(X,y, train_size=0.8, random_state=2529)"
      ],
      "metadata": {
        "id": "BMu-d3slzX7j"
      },
      "execution_count": null,
      "outputs": []
    },
    {
      "cell_type": "code",
      "source": [
        "# verify shape\n",
        "X_train.shape, X_test.shape, y_train.shape, y_test.shape"
      ],
      "metadata": {
        "id": "6TYpjNnAzgHV"
      },
      "execution_count": null,
      "outputs": []
    },
    {
      "cell_type": "markdown",
      "source": [
        "##**Method-01**"
      ],
      "metadata": {
        "id": "JYJU9jF8heS_"
      }
    },
    {
      "cell_type": "code",
      "source": [
        "# select model\n",
        "from sklearn.neighbors import KNeighborsClassifier\n",
        "model = KNeighborsClassifier()\n"
      ],
      "metadata": {
        "id": "JsLlB3pi0Frp"
      },
      "execution_count": null,
      "outputs": []
    },
    {
      "cell_type": "code",
      "source": [
        "# train model\n",
        "model.fit(X_train,y_train)"
      ],
      "metadata": {
        "id": "zNcMLK2N0S4N"
      },
      "execution_count": null,
      "outputs": []
    },
    {
      "cell_type": "code",
      "source": [
        "# predict with model\n",
        "y_pred=model.predict(X_test)"
      ],
      "metadata": {
        "id": "Ucz0oHDj0X36"
      },
      "execution_count": null,
      "outputs": []
    },
    {
      "cell_type": "code",
      "source": [
        "# model evaluation\n",
        "from sklearn.metrics import accuracy_score, confusion_matrix, classification_report"
      ],
      "metadata": {
        "id": "9ueK-hy00e3-"
      },
      "execution_count": null,
      "outputs": []
    },
    {
      "cell_type": "code",
      "source": [
        "# model accuracy\n",
        "accuracy_score(y_test,y_pred)"
      ],
      "metadata": {
        "id": "JJV2eHf50o4W"
      },
      "execution_count": null,
      "outputs": []
    },
    {
      "cell_type": "code",
      "source": [
        "# model confusion matrix\n",
        "confusion_matrix(y_test,y_pred)"
      ],
      "metadata": {
        "id": "h100Msuz00TT"
      },
      "execution_count": null,
      "outputs": []
    },
    {
      "cell_type": "code",
      "source": [
        "# model classification report\n",
        "print(classification_report(y_test,y_pred))"
      ],
      "metadata": {
        "id": "BINeM-mo1Arv"
      },
      "execution_count": null,
      "outputs": []
    },
    {
      "cell_type": "code",
      "source": [
        "# future prediction\n",
        "X_new = X.sample()"
      ],
      "metadata": {
        "id": "_kC5WrRO1Gfj"
      },
      "execution_count": null,
      "outputs": []
    },
    {
      "cell_type": "code",
      "source": [
        "# define X_new\n",
        "X_new"
      ],
      "metadata": {
        "id": "CxLn9E-n1Zht"
      },
      "execution_count": null,
      "outputs": []
    },
    {
      "cell_type": "code",
      "source": [
        "# predict for X_new\n",
        "model.predict(X_new)"
      ],
      "metadata": {
        "id": "ph3XVzdw2MS2"
      },
      "execution_count": null,
      "outputs": []
    },
    {
      "cell_type": "markdown",
      "source": [
        "##**Method-02**"
      ],
      "metadata": {
        "id": "dtS0cr7spcAw"
      }
    },
    {
      "cell_type": "code",
      "source": [
        "# select model\n",
        "from sklearn.ensemble import RandomForestClassifier\n",
        "model = RandomForestClassifier()"
      ],
      "metadata": {
        "id": "P1FB7fZjplZ5"
      },
      "execution_count": null,
      "outputs": []
    },
    {
      "cell_type": "code",
      "source": [
        "# train model\n",
        "model.fit(X_train,y_train)"
      ],
      "metadata": {
        "id": "EfWb-6ooplSB"
      },
      "execution_count": null,
      "outputs": []
    },
    {
      "cell_type": "code",
      "source": [
        "# predict with model\n",
        "y_pred=model.predict(X_test)"
      ],
      "metadata": {
        "id": "Epa6XcakplJd"
      },
      "execution_count": null,
      "outputs": []
    },
    {
      "cell_type": "code",
      "source": [
        "from sklearn.metrics import accuracy_score, confusion_matrix, classification_report"
      ],
      "metadata": {
        "id": "hBZ70ECYplBE"
      },
      "execution_count": null,
      "outputs": []
    },
    {
      "cell_type": "code",
      "source": [
        "# model accuracy\n",
        "accuracy_score(y_test,y_pred)"
      ],
      "metadata": {
        "id": "UtRUO7u5pk4y"
      },
      "execution_count": null,
      "outputs": []
    },
    {
      "cell_type": "code",
      "source": [
        "# model confusion matrix\n",
        "confusion_matrix(y_test,y_pred)"
      ],
      "metadata": {
        "id": "Re9F5JCBpkwu"
      },
      "execution_count": null,
      "outputs": []
    },
    {
      "cell_type": "code",
      "source": [
        "# model classification report\n",
        "print(classification_report(y_test,y_pred))"
      ],
      "metadata": {
        "id": "Ojv4v6egpknm"
      },
      "execution_count": null,
      "outputs": []
    },
    {
      "cell_type": "code",
      "source": [
        "# future prediction\n",
        "X_new = X.sample()"
      ],
      "metadata": {
        "id": "Pvbbj5oZpkcM"
      },
      "execution_count": null,
      "outputs": []
    },
    {
      "cell_type": "code",
      "source": [
        "# define X_new\n",
        "X_new"
      ],
      "metadata": {
        "id": "kM0z9x8ypkRN"
      },
      "execution_count": null,
      "outputs": []
    },
    {
      "cell_type": "code",
      "source": [
        "# predict for X_new\n",
        "model.predict(X_new)"
      ],
      "metadata": {
        "id": "8FRuYTkBpkHV"
      },
      "execution_count": null,
      "outputs": []
    }
  ]
}
